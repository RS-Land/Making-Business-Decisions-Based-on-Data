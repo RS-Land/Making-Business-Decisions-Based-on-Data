{
 "cells": [
  {
   "cell_type": "markdown",
   "metadata": {},
   "source": [
    "#  A/B testing for the online store"
   ]
  },
  {
   "cell_type": "markdown",
   "metadata": {},
   "source": [
    "# Project Description"
   ]
  },
  {
   "cell_type": "markdown",
   "metadata": {},
   "source": [
    "The goal of the project is to prioritize a list of compiled hypotheses, launch an A/B test, and analyze the results in order to\n",
    "to help boost revenue of a big online store. \n",
    "\n",
    "**Available data:**\n",
    "\n",
    "- The file hypotheses_us.csv contains nine hypotheses on boosting an online store's revenue with Reach, Impact,   Confidence, and Effort specified for each.\n",
    "- The results of the A/B test described in the files orders_us.csv and visits_us.csv."
   ]
  },
  {
   "cell_type": "markdown",
   "metadata": {},
   "source": [
    "##  Data preprocessing"
   ]
  },
  {
   "cell_type": "markdown",
   "metadata": {},
   "source": [
    "### Import libraries"
   ]
  },
  {
   "cell_type": "code",
   "execution_count": null,
   "metadata": {},
   "outputs": [],
   "source": [
    "home = %pwd\n",
    "print(home)\n",
    "if home != 'C:/Users/Coami':\n",
    "    \n",
    "    !pip install -Uq matplotlib --user\n",
    "    !pip install -Uq numpy --user\n",
    "    !pip install -Uq pandas --user\n",
    "    !pip install -Uq plotly --user\n",
    "    \n",
    "    !pip install -Uq seaborn --user\n",
    "    !pip install -Uq sidetable --user\n",
    "import sys\n",
    "import warnings\n",
    "if not sys.warnoptions:\n",
    "    warnings.simplefilter(\"ignore\")"
   ]
  },
  {
   "cell_type": "code",
   "execution_count": null,
   "metadata": {},
   "outputs": [],
   "source": [
    "#importing libraries\n",
    "import pandas as pd\n",
    "import matplotlib.pyplot as plt\n",
    "import numpy as np \n",
    "import seaborn as sns\n",
    "import datetime\n",
    "import random\n",
    "   # !pip install -Uq seaborn --user\n",
    "    #!pip install -Uq plotly --user\n",
    "   # !pip install plotly\n",
    "   # !pip install -Uq plotly --user\n",
    "import sys\n",
    "    #!conda install --yes --prefix {sys.prefix} plotly\n",
    "import plotly as px\n",
    "import plotly.express as px\n",
    "import scipy.stats as stats"
   ]
  },
  {
   "cell_type": "markdown",
   "metadata": {},
   "source": [
    "### Import data"
   ]
  },
  {
   "cell_type": "code",
   "execution_count": null,
   "metadata": {},
   "outputs": [],
   "source": [
    "try:\n",
    "    hypotheses = pd.read_csv('hypotheses_us.csv', sep='\\;',)\n",
    "except:\n",
    "    hypotheses = pd.read_csv('/datasets/hypotheses_us.csv',sep='\\;')\n",
    "\n",
    "hypotheses.info()"
   ]
  },
  {
   "cell_type": "code",
   "execution_count": null,
   "metadata": {},
   "outputs": [],
   "source": [
    "hypotheses = hypotheses.rename(columns=str.lower)\n",
    "hypotheses['hypothesis_id']=[1,2,3,4,5,6,7,8,9]\n",
    "hypotheses"
   ]
  },
  {
   "cell_type": "code",
   "execution_count": null,
   "metadata": {},
   "outputs": [],
   "source": [
    "try:\n",
    "    orders = pd.read_csv('orders_us.csv',\n",
    "    parse_dates=['date'])\n",
    "                         #, sep='\\;',)\n",
    "except:\n",
    "    orders = pd.read_csv('/datasets/orders_us.csv',\n",
    "    parse_dates=['date'])\n",
    "                         #',sep='\\;')\n",
    "orders = orders.rename(columns=str.lower)\n",
    "orders.info()"
   ]
  },
  {
   "cell_type": "code",
   "execution_count": null,
   "metadata": {},
   "outputs": [],
   "source": [
    "try:\n",
    "    visits = pd.read_csv('visits_us.csv',\n",
    "    parse_dates=['date'])\n",
    "                         #, sep='\\;',)\n",
    "except:\n",
    "    visits = pd.read_csv('/datasets/visits_us.csv',\n",
    "    parse_dates=['date'])\n",
    "                         #',sep='\\;')\n",
    "\n",
    "visits.info()"
   ]
  },
  {
   "cell_type": "markdown",
   "metadata": {},
   "source": [
    "### Checking mistakes in the original datasets"
   ]
  },
  {
   "cell_type": "code",
   "execution_count": null,
   "metadata": {},
   "outputs": [],
   "source": [
    "print(len(orders.query('group == \"A\"')['visitorid'].unique()) \n",
    "      +len(orders.query('group == \"B\"')['visitorid'].unique()) \n",
    "      -orders['visitorid'].nunique())"
   ]
  },
  {
   "cell_type": "markdown",
   "metadata": {},
   "source": [
    "Keeping the visitors that were assigned to both groups might disturb the results. It is safer to drop it."
   ]
  },
  {
   "cell_type": "code",
   "execution_count": null,
   "metadata": {},
   "outputs": [],
   "source": [
    "drop_list=list(set(orders.query('group == \"A\"')['visitorid'].unique()) & set(orders.query('group == \"B\"')['visitorid'].unique()))\n",
    "orders = orders[~orders.visitorid.isin(drop_list)].reset_index()\n",
    "orders"
   ]
  },
  {
   "cell_type": "code",
   "execution_count": null,
   "metadata": {},
   "outputs": [],
   "source": [
    "len(list(set(orders.query('group == \"A\"')['visitorid'].unique()) & set(orders.query('group == \"B\"')['visitorid'].unique())))"
   ]
  },
  {
   "cell_type": "markdown",
   "metadata": {},
   "source": [
    "## Prioritizing Hypotheses"
   ]
  },
  {
   "cell_type": "markdown",
   "metadata": {},
   "source": [
    "### ICE"
   ]
  },
  {
   "cell_type": "code",
   "execution_count": null,
   "metadata": {},
   "outputs": [],
   "source": [
    "hypotheses['ICE']= (hypotheses['impact']*hypotheses['confidence']/hypotheses['effort']).round()\n",
    "print(hypotheses[['hypothesis_id','ICE']].sort_values(by='ICE', ascending = False))"
   ]
  },
  {
   "cell_type": "code",
   "execution_count": null,
   "metadata": {},
   "outputs": [],
   "source": [
    "x = np.arange(len(hypotheses['hypothesis_id']))  # the label locations\n",
    "width = 0.5  # the width of the bars\n",
    "fig, ax = plt.subplots()\n",
    "rects1 = ax.bar(x - width/2, hypotheses['ICE'], width) #, label='ICE')\n",
    "#rects2 = ax.bar(x + width/2, hypotheses['RICE'], width, label='RICE')\n",
    "\n",
    "ax.set_title('ICE')\n",
    "ax.set_xticks(x, hypotheses['hypothesis_id'])\n",
    "ax.legend()\n",
    "ax.bar_label(rects1, padding=3)\n",
    "#ax.bar_label(rects2, padding=3)\n",
    "\n",
    "fig.tight_layout()\n",
    "fig.set_figheight(6)\n",
    "fig.set_figwidth(8)\n",
    "\n",
    "plt.show()"
   ]
  },
  {
   "cell_type": "markdown",
   "metadata": {},
   "source": [
    "The most promising hypotheses according to ICE are number 9, 1 and 8. "
   ]
  },
  {
   "cell_type": "markdown",
   "metadata": {},
   "source": [
    "### RICE"
   ]
  },
  {
   "cell_type": "code",
   "execution_count": null,
   "metadata": {},
   "outputs": [],
   "source": [
    "hypotheses['RICE']= hypotheses['reach']*hypotheses['impact']*hypotheses['confidence']/hypotheses['effort']\n",
    "print(hypotheses[['hypothesis_id','RICE']].sort_values(by='RICE', ascending = False))"
   ]
  },
  {
   "cell_type": "code",
   "execution_count": null,
   "metadata": {},
   "outputs": [],
   "source": [
    "x = np.arange(len(hypotheses['hypothesis_id']))  # the label locations\n",
    "width = 0.5  # the width of the bars\n",
    "fig, ax = plt.subplots()\n",
    "#rects1 = ax.bar(x - width/2, hypotheses['ICE'], width, label='ICE')\n",
    "rects2 = ax.bar(x + width/2, hypotheses['RICE'], width)#, label='RICE')\n",
    "\n",
    "ax.set_title('RICE')\n",
    "ax.set_xticks(x, hypotheses['hypothesis_id'])\n",
    "ax.legend()\n",
    "#ax.bar_label(rects1, padding=3)\n",
    "ax.bar_label(rects2, padding=3)\n",
    "\n",
    "fig.tight_layout()\n",
    "fig.set_figheight(6)\n",
    "fig.set_figwidth(8)\n",
    "\n",
    "plt.show()"
   ]
  },
  {
   "cell_type": "markdown",
   "metadata": {},
   "source": [
    "The most promising hypotheses according to RICE are number 8, 3, 1 and 7. And number 8 has significantly more potential."
   ]
  },
  {
   "cell_type": "markdown",
   "metadata": {},
   "source": [
    "### Prioritization methods comparison "
   ]
  },
  {
   "cell_type": "markdown",
   "metadata": {},
   "source": [
    "After applying ICE framework we would consider hypotheses 9, 1, 8, 7, 3 to be the most promising ones. But after taking into account how many users they would affect we would get that number 8 hypotheses is the most promising. After that, we can also take into account hypotheses 1,3 and 7 and dismiss hypotheses 9 since it won't affect a lot of users compared to the others."
   ]
  },
  {
   "cell_type": "markdown",
   "metadata": {},
   "source": [
    "## A/B Test Analysis"
   ]
  },
  {
   "cell_type": "markdown",
   "metadata": {},
   "source": [
    "### Cumulative revenue by group"
   ]
  },
  {
   "cell_type": "code",
   "execution_count": null,
   "metadata": {},
   "outputs": [],
   "source": [
    "datesGroups = orders[['date', 'group']].drop_duplicates()\n",
    "\n",
    "ordersAggregated = datesGroups.apply(\n",
    "    lambda x: orders[\n",
    "        np.logical_and(\n",
    "            orders['date'] <= x['date'], orders['group'] == x['group']\n",
    "        )\n",
    "    ].agg(\n",
    "        {\n",
    "            'date': 'max',\n",
    "            'group': 'max',\n",
    "            'transactionid': pd.Series.nunique,\n",
    "            'visitorid': pd.Series.nunique,\n",
    "            'revenue': 'sum',\n",
    "        }\n",
    "    ),\n",
    "    axis=1,\n",
    ").sort_values(by=['date', 'group'])\n",
    "\n",
    "visitorsAggregated = datesGroups.apply(\n",
    "    lambda x: visits[\n",
    "        np.logical_and(\n",
    "            visits['date'] <= x['date'], visits['group'] == x['group']\n",
    "        )\n",
    "    ].agg({'date': 'max', 'group': 'max', 'visits': 'sum'}),\n",
    "    axis=1,\n",
    ").sort_values(by=['date', 'group'])\n",
    "\n",
    "cumulativeData = ordersAggregated.merge(\n",
    "    visitorsAggregated, left_on=['date', 'group'], right_on=['date', 'group']\n",
    ")\n",
    "cumulativeData.columns = [\n",
    "    'date',\n",
    "    'group',\n",
    "    'orders',\n",
    "    'buyers',\n",
    "    'revenue',\n",
    "    'visitors',\n",
    "]\n",
    "\n",
    "\n",
    "# DataFrame with cumulative orders and cumulative revenue by day, group A\n",
    "cumulativeRevenueA = cumulativeData[cumulativeData['group']=='A'][['date','revenue', 'orders']]\n",
    "\n",
    "# DataFrame with cumulative orders and cumulative revenue by day, group B\n",
    "cumulativeRevenueB = cumulativeData[cumulativeData['group']=='B'][['date','revenue', 'orders']]\n",
    "\n",
    "# Plotting the group A revenue graph \n",
    "plt.plot(cumulativeRevenueA['date'], cumulativeRevenueA['revenue'], label='A')\n",
    "\n",
    "# Plotting the group B revenue graph \n",
    "plt.plot(cumulativeRevenueB['date'], cumulativeRevenueB['revenue'], label='B')\n",
    "plt.title('Cumulative revenue by group')\n",
    "plt.legend()\n",
    "plt.xticks(rotation=45)\n",
    "plt.grid()\n",
    "plt.legend()\n",
    "plt.show()"
   ]
  },
  {
   "cell_type": "markdown",
   "metadata": {},
   "source": [
    "Cumulative revenue for the two groups looked the same at the beginning. Between 17-08-2019 and 21-08-2019 revenue of the B group significantly increased and remained at a higher level. It seems like we have an abnormality within the data we need to get rid of. "
   ]
  },
  {
   "cell_type": "markdown",
   "metadata": {},
   "source": [
    "### Cumulative average order size by group"
   ]
  },
  {
   "cell_type": "code",
   "execution_count": null,
   "metadata": {},
   "outputs": [],
   "source": [
    "plt.plot(cumulativeRevenueA['date'], cumulativeRevenueA['revenue']/cumulativeRevenueA['orders'], label='A')\n",
    "plt.plot(cumulativeRevenueB['date'], cumulativeRevenueB['revenue']/cumulativeRevenueB['orders'], label='B')\n",
    "plt.title('Cumulative average order size by group')\n",
    "plt.legend() \n",
    "plt.xticks(rotation=45)\n",
    "plt.grid()\n",
    "plt.legend()\n",
    "plt.show()"
   ]
  },
  {
   "cell_type": "markdown",
   "metadata": {},
   "source": [
    "The data seems to be unstable, falling and rising abnormally. We need to pay attention to the possible outliers. "
   ]
  },
  {
   "cell_type": "markdown",
   "metadata": {},
   "source": [
    "###  Relative difference in cumulative average order size for groups"
   ]
  },
  {
   "cell_type": "code",
   "execution_count": null,
   "metadata": {},
   "outputs": [],
   "source": [
    "mergedCumulativeRevenue = cumulativeRevenueA.merge(cumulativeRevenueB, left_on='date', right_on='date', how='left', suffixes=['A', 'B'])\n",
    "\n",
    "# plotting a relative difference graph for the average purchase sizes\n",
    "plt.plot(mergedCumulativeRevenue['date'], (mergedCumulativeRevenue['revenueB']/mergedCumulativeRevenue['ordersB'])/(mergedCumulativeRevenue['revenueA']/mergedCumulativeRevenue['ordersA'])-1)\n",
    "\n",
    "# adding the X axis\n",
    "plt.axhline(y=0, color='black', linestyle='--') \n",
    "plt.title('Relative difference in cumulative average order size')\n",
    "plt.xticks(rotation=45)\n",
    "plt.grid()\n",
    "plt.legend()\n",
    "plt.show()\n"
   ]
  },
  {
   "cell_type": "markdown",
   "metadata": {},
   "source": [
    "Relative difference shows us there were several significant changes. Probably due to the disturbance within the data we've suspected earlier."
   ]
  },
  {
   "cell_type": "markdown",
   "metadata": {},
   "source": [
    "### Group's conversion rate"
   ]
  },
  {
   "cell_type": "code",
   "execution_count": null,
   "metadata": {},
   "outputs": [],
   "source": [
    "cumulativeData['conversion'] = cumulativeData['orders']/cumulativeData['visitors']\n",
    "\n",
    "# selecting data on group A \n",
    "cumulativeDataA = cumulativeData[cumulativeData['group']=='A']\n",
    "\n",
    "# selecting data on group B\n",
    "cumulativeDataB = cumulativeData[cumulativeData['group']=='B']\n",
    "\n",
    "# plotting the graphs\n",
    "plt.plot(cumulativeDataA['date'], cumulativeDataA['conversion'], label='A')\n",
    "plt.plot(cumulativeDataB['date'], cumulativeDataB['conversion'], label='B')\n",
    "plt.title('Groups conversion rate')\n",
    "plt.xticks(rotation=45)\n",
    "plt.grid()\n",
    "plt.legend()\n",
    "plt.show()"
   ]
  },
  {
   "cell_type": "markdown",
   "metadata": {},
   "source": [
    "Group A had a higher level of conversion at the beginning, group B had a rise later and managed to stay at a certain level of conversion."
   ]
  },
  {
   "cell_type": "code",
   "execution_count": null,
   "metadata": {},
   "outputs": [],
   "source": [
    "mergedCumulativeConversions = cumulativeDataA[['date','conversion']].merge(cumulativeDataB[['date','conversion']], left_on='date', right_on='date', how='left', suffixes=['A', 'B'])\n",
    "\n",
    "plt.plot(mergedCumulativeConversions['date'], mergedCumulativeConversions['conversionB']/mergedCumulativeConversions['conversionA']-1)\n",
    "plt.legend()\n",
    "\n",
    "plt.axhline(y=0, color='black', linestyle='--')\n",
    "plt.axhline(y=-0.1, color='grey', linestyle='--')\n",
    "plt.title('The relative difference between the cumulative conversion rate')\n",
    "plt.xticks(rotation=45)\n",
    "plt.grid()\n",
    "plt.show()"
   ]
  },
  {
   "cell_type": "markdown",
   "metadata": {},
   "source": [
    "The group B is leading in conversion rate, but we can't see it stabilizing at any certain level."
   ]
  },
  {
   "cell_type": "markdown",
   "metadata": {},
   "source": [
    "### Number of orders per user"
   ]
  },
  {
   "cell_type": "code",
   "execution_count": null,
   "metadata": {},
   "outputs": [],
   "source": [
    "orders"
   ]
  },
  {
   "cell_type": "code",
   "execution_count": null,
   "metadata": {},
   "outputs": [],
   "source": [
    "ordersByUsers = (\n",
    "    orders.drop(['group', 'revenue', 'date'], axis=1)\n",
    "    .groupby('visitorid', as_index=False)\n",
    "    .agg({'transactionid': pd.Series.nunique})\n",
    ")\n",
    "ordersByUsers.columns = ['visitorid', 'orders']\n",
    "\n",
    "print(ordersByUsers.sort_values(by='orders', ascending=False))\n"
   ]
  },
  {
   "cell_type": "code",
   "execution_count": null,
   "metadata": {},
   "outputs": [],
   "source": [
    "# the range of numbers from 0 to the number of observations in ordersByUsers\n",
    "x_values = pd.Series(range(0,len(ordersByUsers)))\n",
    "plt.scatter(x_values, ordersByUsers['orders']) \n",
    "plt.title('Number of orders per user')\n",
    "\n",
    "plt.grid()\n",
    "\n",
    "plt.show()"
   ]
  },
  {
   "cell_type": "markdown",
   "metadata": {},
   "source": [
    "Most of the users made only one purchase, it is rare for a user to make two purchases and even more rare to make 3. It could be outliers."
   ]
  },
  {
   "cell_type": "markdown",
   "metadata": {},
   "source": [
    "###  The 95th and 99th percentiles for the number of orders per user"
   ]
  },
  {
   "cell_type": "code",
   "execution_count": null,
   "metadata": {},
   "outputs": [],
   "source": [
    "print('The 95th and 99th percentiles for the number of orders per user:', np.percentile(ordersByUsers['orders'], [95, 99])) "
   ]
  },
  {
   "cell_type": "markdown",
   "metadata": {},
   "source": [
    "No more than 5 % of the users had more than 1 order and only 1 % had more than 2. Therefore 1 or 2 should be used as defining for cutting off the anomalies."
   ]
  },
  {
   "cell_type": "markdown",
   "metadata": {},
   "source": [
    "### Order prices"
   ]
  },
  {
   "cell_type": "code",
   "execution_count": null,
   "metadata": {},
   "outputs": [],
   "source": [
    "x_values = pd.Series(range(0,len(orders['revenue'])))\n",
    "plt.scatter(x_values, orders['revenue']) \n",
    "plt.title('Order prices')"
   ]
  },
  {
   "cell_type": "markdown",
   "metadata": {},
   "source": [
    "Most of the orders do not reach value of 2500. And an order of 20000 can be considered as anomaly."
   ]
  },
  {
   "cell_type": "markdown",
   "metadata": {},
   "source": [
    "###  The 95th and 99th percentiles of order prices"
   ]
  },
  {
   "cell_type": "code",
   "execution_count": null,
   "metadata": {},
   "outputs": [],
   "source": [
    "print('The 95th and 99th percentiles of order prices:', np.percentile(orders['revenue'], [95, 99])) "
   ]
  },
  {
   "cell_type": "markdown",
   "metadata": {},
   "source": [
    "No more of 5% of the orders cost more then 414 and no more then 1$ cost more then 830. Anything more than that can be considered as anomaly."
   ]
  },
  {
   "cell_type": "markdown",
   "metadata": {},
   "source": [
    "### Statistical significance of the difference in conversion between the groups based on the raw data"
   ]
  },
  {
   "cell_type": "markdown",
   "metadata": {},
   "source": [
    "To calculate the statistical significance of the difference in conversion between the groups we will apply the Mann-Whitney test."
   ]
  },
  {
   "cell_type": "markdown",
   "metadata": {},
   "source": [
    "The null-hypothesis, Ho: The conversion rate of group A is the same as conversion rate of group B.\n",
    "\n",
    "H1 hypothesis: There is a statistically significant difference in conversion rate between groups A and B."
   ]
  },
  {
   "cell_type": "code",
   "execution_count": null,
   "metadata": {},
   "outputs": [],
   "source": [
    "ordersByUsersA = orders[orders['group']=='A'].groupby('visitorid', as_index=False).agg({'transactionid' : pd.Series.nunique})\n",
    "ordersByUsersA.columns = ['visitorid', 'orders']\n",
    "\n",
    "ordersByUsersB = orders[orders['group']=='B'].groupby('visitorid', as_index=False).agg({'transactionid' : pd.Series.nunique})\n",
    "ordersByUsersB.columns = ['visitorid', 'orders'] \n",
    "sampleA = pd.concat([ordersByUsersA['orders'],pd.Series(0, index=np.arange(visits [visits['group']=='A']['visits'].sum() - len(ordersByUsersA['orders'])), name='orders')],axis=0)\n",
    "\n",
    "sampleB = pd.concat([ordersByUsersB['orders'],pd.Series(0, index=np.arange(visits [visits['group']=='B']['visits'].sum() - len(ordersByUsersB['orders'])), name='orders')],axis=0) \n",
    "\n",
    "print('p-value to compare the groups conversion:',\"{0:.5f}\".format(stats.mannwhitneyu(sampleA, sampleB)[1]))\n",
    "\n",
    "print('The relative difference in conversion between the groups:',\"{0:.3f}\".format(sampleB.mean()/sampleA.mean()-1)) \n"
   ]
  },
  {
   "cell_type": "markdown",
   "metadata": {},
   "source": [
    "The p-value is considerably lower than 0.05 so we reject the null hypothesis. The raw data analysis showed that the groups' conversion rates have statistically significant differences.\n",
    "\n",
    "The relative conversion gain for group B compared with group A is 16%."
   ]
  },
  {
   "cell_type": "markdown",
   "metadata": {},
   "source": [
    "### The statistical significance of the difference in average order size between the groups based on the raw data"
   ]
  },
  {
   "cell_type": "markdown",
   "metadata": {},
   "source": [
    "The null-hypothesis, Ho: The average order size doesn't differ between the groups A and B.\n",
    "\n",
    "H1 hypothesis: There is a statistically significant difference in average order size between groups A and B."
   ]
  },
  {
   "cell_type": "code",
   "execution_count": null,
   "metadata": {},
   "outputs": [],
   "source": [
    "print('p-value to compare the groups average order size:','{0:.3f}'.format(stats.mannwhitneyu(orders[orders['group']=='A']['revenue'], orders[orders['group']=='B']['revenue'])[1]))\n",
    "print('The relative gain for group B:','{0:.3f}'.format(orders[orders['group']=='B']['revenue'].mean()/orders[orders['group']=='A']['revenue'].mean()-1)) "
   ]
  },
  {
   "cell_type": "markdown",
   "metadata": {},
   "source": [
    "The p-value is considerably higher than 0.05, so there's no reason to reject the null hypothesis and we can't conclude that average order size differs between the groups. \n",
    "\n",
    "Nonetheless, the average order size for group A is much smaller than it is for group B. (27.8%)"
   ]
  },
  {
   "cell_type": "markdown",
   "metadata": {},
   "source": [
    "### The statistical significance of the difference in conversion between the groups based on the filtered data"
   ]
  },
  {
   "cell_type": "markdown",
   "metadata": {},
   "source": [
    "Let's define anomalous users as those who place more than 1 order or one order bigger than 600. Thus we'll remove the 5% of users with the largest numbers of orders and from 1% to 5% of the users with the most expensive orders. Let's make data slices with the users who placed more than 1 order (usersWithManyOrders) and the users who placed orders for more than 600 (usersWithExpensiveOrders). We'll join them in a table called abnormalUsers."
   ]
  },
  {
   "cell_type": "code",
   "execution_count": null,
   "metadata": {},
   "outputs": [],
   "source": [
    "usersWithManyOrders = pd.concat([ordersByUsersA[ordersByUsersA['orders'] > 1]['visitorid'], ordersByUsersB[ordersByUsersB['orders'] > 1]['visitorid']], axis = 0)\n",
    "usersWithExpensiveOrders = orders[orders['revenue'] > 600]['visitorid']\n",
    "abnormalUsers = pd.concat([usersWithManyOrders, usersWithExpensiveOrders], axis = 0).drop_duplicates().sort_values()\n",
    "print(abnormalUsers.head(5))\n",
    "print(abnormalUsers.shape) "
   ]
  },
  {
   "cell_type": "markdown",
   "metadata": {},
   "source": [
    "We have 59 anomalous users in total.\n",
    "Let's try to find out how their actions affected the test results. We'll calculate the statistical significance of the differences in conversion between the groups, using filtered data. First we'll prepare samples of the number of orders per user for each test group. Then we will apply the statistical Mann-Whitney criterion to the resulting samples:"
   ]
  },
  {
   "cell_type": "markdown",
   "metadata": {},
   "source": [
    "The null-hypothesis, Ho: The conversion rate of group A is the same as conversion rate of group B for filtered data.\n",
    "\n",
    "H1 hypothesis: There is a statistically significant difference in conversion rate between groups A and B for filtered data."
   ]
  },
  {
   "cell_type": "code",
   "execution_count": null,
   "metadata": {},
   "outputs": [],
   "source": [
    "sampleAFiltered = pd.concat([ordersByUsersA[np.logical_not(ordersByUsersA['visitorid'].isin(abnormalUsers))]['orders'],pd.Series(0, index=np.arange(visits[visits['group']=='A']['visits'].sum() - len(ordersByUsersA['orders'])),name='orders')],axis=0)\n",
    "\n",
    "sampleBFiltered = pd.concat([ordersByUsersB[np.logical_not(ordersByUsersB['visitorid'].isin(abnormalUsers))]['orders'],pd.Series(0, index=np.arange(visits[visits['group']=='B']['visits'].sum() - len(ordersByUsersB['orders'])),name='orders')],axis=0)\n",
    "print('p-value to compare the groups conversion:',\"{0:.5f}\".format(stats.mannwhitneyu(sampleAFiltered, sampleBFiltered)[1]))\n",
    "print('The relative difference in conversion between the groups:',\"{0:.3f}\".format(sampleBFiltered.mean()/sampleAFiltered.mean()-1)) "
   ]
  },
  {
   "cell_type": "markdown",
   "metadata": {},
   "source": [
    "The filtered data analysis showed that the groups' conversion rates have statistically significant differences.\n",
    "\n",
    "The relative conversion gain for group B compared with group A is 19.6% now.\n",
    "\n",
    "The results for conversion almost didn't change."
   ]
  },
  {
   "cell_type": "markdown",
   "metadata": {},
   "source": [
    "### The statistical significance of the difference in average order size between the groups based on the filtered data"
   ]
  },
  {
   "cell_type": "markdown",
   "metadata": {},
   "source": [
    "The null-hypothesis, Ho: The average order size doesn't differ between the groups A and B for filtered data.\n",
    "\n",
    "H1 hypothesis: There is a statistically significant difference in average order size between groups A and B for filtered data."
   ]
  },
  {
   "cell_type": "code",
   "execution_count": null,
   "metadata": {},
   "outputs": [],
   "source": [
    "print('p-value to compare the groups average order size:','{0:.3f}'.format(stats.mannwhitneyu(\n",
    "    orders[np.logical_and(\n",
    "        orders['group']=='A',\n",
    "        np.logical_not(orders['visitorid'].isin(abnormalUsers)))]['revenue'],\n",
    "    orders[np.logical_and(\n",
    "        orders['group']=='B',\n",
    "        np.logical_not(orders['visitorid'].isin(abnormalUsers)))]['revenue'])[1]))\n",
    "\n",
    "print('The relative gain for group B:','{0:.3f}'.format(\n",
    "    orders[np.logical_and(orders['group']=='B',np.logical_not(orders['visitorid'].isin(abnormalUsers)))]['revenue'].mean()/\n",
    "    orders[np.logical_and(\n",
    "        orders['group']=='A',\n",
    "        np.logical_not(orders['visitorid'].isin(abnormalUsers)))]['revenue'].mean() - 1)) "
   ]
  },
  {
   "cell_type": "markdown",
   "metadata": {},
   "source": [
    "We can't resume that the average order size differ between the groups for a test based on filtered data. \n",
    "\n",
    "The average order size for group B is now only a little bit more than for the group A (6.1%)."
   ]
  },
  {
   "cell_type": "markdown",
   "metadata": {},
   "source": [
    "## Conclusion"
   ]
  },
  {
   "cell_type": "markdown",
   "metadata": {},
   "source": [
    "- There's a statistically significant difference in conversion between the groups, according to both the raw and the filtered data.\n",
    "- The raw data didn't show a statistically significant difference between the groups in terms of average purchase size. However, after the anomalies were removed, it turned out that they indeed strongly affected the relative gain in average purchase size for B group."
   ]
  },
  {
   "cell_type": "markdown",
   "metadata": {},
   "source": [
    "The recommended decision is to stop the test. The results of group B can be considered better compared to group A."
   ]
  }
 ],
 "metadata": {
  "ExecuteTimeLog": [
   {
    "duration": 400655,
    "start_time": "2022-01-18T11:46:55.015Z"
   },
   {
    "duration": 1816,
    "start_time": "2022-01-18T11:54:26.653Z"
   },
   {
    "duration": 112,
    "start_time": "2022-01-18T13:43:35.190Z"
   },
   {
    "duration": 113,
    "start_time": "2022-01-18T13:43:50.641Z"
   },
   {
    "duration": 151,
    "start_time": "2022-01-18T13:44:57.042Z"
   },
   {
    "duration": 97,
    "start_time": "2022-01-18T13:45:14.079Z"
   },
   {
    "duration": 103,
    "start_time": "2022-01-18T13:45:41.561Z"
   },
   {
    "duration": 139,
    "start_time": "2022-01-18T13:46:33.848Z"
   },
   {
    "duration": 62,
    "start_time": "2022-01-18T13:47:02.008Z"
   },
   {
    "duration": 62,
    "start_time": "2022-01-18T13:48:25.590Z"
   },
   {
    "duration": 99,
    "start_time": "2022-01-18T13:54:21.767Z"
   },
   {
    "duration": 105,
    "start_time": "2022-01-18T13:54:39.840Z"
   },
   {
    "duration": 112,
    "start_time": "2022-01-18T13:54:56.872Z"
   },
   {
    "duration": 8,
    "start_time": "2022-01-18T13:55:55.040Z"
   },
   {
    "duration": 103,
    "start_time": "2022-01-18T14:11:33.734Z"
   },
   {
    "duration": 363,
    "start_time": "2022-01-18T14:11:39.709Z"
   },
   {
    "duration": 127,
    "start_time": "2022-01-18T14:12:07.319Z"
   },
   {
    "duration": 150,
    "start_time": "2022-01-18T14:14:54.986Z"
   },
   {
    "duration": 108,
    "start_time": "2022-01-18T14:16:22.300Z"
   },
   {
    "duration": 5,
    "start_time": "2022-01-18T14:36:06.743Z"
   },
   {
    "duration": 5,
    "start_time": "2022-01-18T14:37:26.117Z"
   },
   {
    "duration": 10,
    "start_time": "2022-01-18T14:42:01.107Z"
   },
   {
    "duration": 9,
    "start_time": "2022-01-18T14:42:48.226Z"
   },
   {
    "duration": 7,
    "start_time": "2022-01-18T14:43:00.619Z"
   },
   {
    "duration": 7,
    "start_time": "2022-01-18T14:43:10.722Z"
   },
   {
    "duration": 5,
    "start_time": "2022-01-18T14:48:06.103Z"
   },
   {
    "duration": 4,
    "start_time": "2022-01-18T14:50:38.052Z"
   },
   {
    "duration": 4,
    "start_time": "2022-01-18T14:51:20.813Z"
   },
   {
    "duration": 4,
    "start_time": "2022-01-18T14:51:28.332Z"
   },
   {
    "duration": 268,
    "start_time": "2022-01-18T14:51:37.883Z"
   },
   {
    "duration": 243,
    "start_time": "2022-01-18T14:51:43.540Z"
   },
   {
    "duration": 272,
    "start_time": "2022-01-18T14:51:51.923Z"
   },
   {
    "duration": 4,
    "start_time": "2022-01-18T14:52:56.299Z"
   },
   {
    "duration": 9,
    "start_time": "2022-01-18T14:53:51.865Z"
   },
   {
    "duration": 10,
    "start_time": "2022-01-18T14:54:03.210Z"
   },
   {
    "duration": 9,
    "start_time": "2022-01-18T14:54:14.850Z"
   },
   {
    "duration": 8,
    "start_time": "2022-01-18T14:54:19.273Z"
   },
   {
    "duration": 9,
    "start_time": "2022-01-18T14:54:32.353Z"
   },
   {
    "duration": 129,
    "start_time": "2022-01-18T14:56:07.282Z"
   },
   {
    "duration": 4194,
    "start_time": "2022-01-18T14:56:14.791Z"
   },
   {
    "duration": 3820,
    "start_time": "2022-01-18T14:56:29.391Z"
   },
   {
    "duration": 8,
    "start_time": "2022-01-18T14:56:40.511Z"
   },
   {
    "duration": 316,
    "start_time": "2022-01-18T15:02:42.198Z"
   },
   {
    "duration": 10,
    "start_time": "2022-01-18T15:03:49.625Z"
   },
   {
    "duration": 256,
    "start_time": "2022-01-18T15:05:38.383Z"
   },
   {
    "duration": 19,
    "start_time": "2022-01-18T15:05:48.352Z"
   },
   {
    "duration": 22,
    "start_time": "2022-01-18T15:07:06.230Z"
   },
   {
    "duration": 10,
    "start_time": "2022-01-18T15:07:47.406Z"
   },
   {
    "duration": 124,
    "start_time": "2022-01-18T15:07:54.725Z"
   },
   {
    "duration": 10,
    "start_time": "2022-01-18T15:07:58.109Z"
   },
   {
    "duration": 9,
    "start_time": "2022-01-18T15:08:01.452Z"
   },
   {
    "duration": 20,
    "start_time": "2022-01-18T15:08:08.037Z"
   },
   {
    "duration": 20,
    "start_time": "2022-01-18T15:08:50.276Z"
   },
   {
    "duration": 11,
    "start_time": "2022-01-18T15:08:52.164Z"
   },
   {
    "duration": 8,
    "start_time": "2022-01-18T15:19:46.562Z"
   },
   {
    "duration": 10618,
    "start_time": "2022-01-18T15:20:03.826Z"
   },
   {
    "duration": 8,
    "start_time": "2022-01-18T15:20:28.129Z"
   },
   {
    "duration": 10,
    "start_time": "2022-01-18T15:22:17.205Z"
   },
   {
    "duration": 11,
    "start_time": "2022-01-18T15:22:33.670Z"
   },
   {
    "duration": 104,
    "start_time": "2022-01-18T15:22:37.839Z"
   },
   {
    "duration": 10,
    "start_time": "2022-01-18T15:22:38.991Z"
   },
   {
    "duration": 9,
    "start_time": "2022-01-18T15:22:49.951Z"
   },
   {
    "duration": 158,
    "start_time": "2022-01-18T15:23:19.894Z"
   },
   {
    "duration": 10,
    "start_time": "2022-01-18T15:23:20.854Z"
   },
   {
    "duration": 8,
    "start_time": "2022-01-18T15:23:26.326Z"
   },
   {
    "duration": 284,
    "start_time": "2022-01-18T15:23:28.126Z"
   },
   {
    "duration": 8,
    "start_time": "2022-01-18T15:23:32.215Z"
   },
   {
    "duration": 9,
    "start_time": "2022-01-18T15:23:46.607Z"
   },
   {
    "duration": 9,
    "start_time": "2022-01-18T15:23:55.021Z"
   },
   {
    "duration": 9,
    "start_time": "2022-01-18T15:24:35.141Z"
   },
   {
    "duration": 8,
    "start_time": "2022-01-18T15:24:47.869Z"
   },
   {
    "duration": 9,
    "start_time": "2022-01-18T15:25:56.803Z"
   },
   {
    "duration": 604,
    "start_time": "2022-01-18T15:54:43.374Z"
   },
   {
    "duration": 444,
    "start_time": "2022-01-18T15:55:14.761Z"
   },
   {
    "duration": 8,
    "start_time": "2022-01-18T15:55:49.643Z"
   },
   {
    "duration": 459,
    "start_time": "2022-01-18T15:55:53.463Z"
   },
   {
    "duration": 639,
    "start_time": "2022-01-18T15:57:32.100Z"
   },
   {
    "duration": 532,
    "start_time": "2022-01-18T15:58:54.678Z"
   },
   {
    "duration": 530,
    "start_time": "2022-01-18T15:59:04.799Z"
   },
   {
    "duration": 458,
    "start_time": "2022-01-18T15:59:18.469Z"
   },
   {
    "duration": 425,
    "start_time": "2022-01-18T15:59:30.014Z"
   },
   {
    "duration": 462,
    "start_time": "2022-01-18T15:59:48.349Z"
   },
   {
    "duration": 427,
    "start_time": "2022-01-18T16:00:09.804Z"
   },
   {
    "duration": 497,
    "start_time": "2022-01-18T16:01:26.267Z"
   },
   {
    "duration": 351,
    "start_time": "2022-01-18T16:02:19.451Z"
   },
   {
    "duration": 323,
    "start_time": "2022-01-18T16:03:20.370Z"
   },
   {
    "duration": 42887,
    "start_time": "2022-01-19T16:33:58.588Z"
   },
   {
    "duration": 1953,
    "start_time": "2022-01-19T16:34:41.477Z"
   },
   {
    "duration": 130,
    "start_time": "2022-01-19T16:34:43.432Z"
   },
   {
    "duration": 523,
    "start_time": "2022-01-19T16:34:43.564Z"
   },
   {
    "duration": 1131,
    "start_time": "2022-01-19T16:34:44.088Z"
   },
   {
    "duration": 122,
    "start_time": "2022-01-19T16:34:45.221Z"
   },
   {
    "duration": 8,
    "start_time": "2022-01-19T16:34:45.345Z"
   },
   {
    "duration": 18,
    "start_time": "2022-01-19T16:34:45.355Z"
   },
   {
    "duration": 8,
    "start_time": "2022-01-19T16:34:45.375Z"
   },
   {
    "duration": 6,
    "start_time": "2022-01-19T16:34:45.384Z"
   },
   {
    "duration": 413,
    "start_time": "2022-01-19T16:34:45.391Z"
   },
   {
    "duration": 7,
    "start_time": "2022-01-19T16:34:45.805Z"
   },
   {
    "duration": 267,
    "start_time": "2022-01-19T16:34:45.813Z"
   },
   {
    "duration": 40741,
    "start_time": "2022-01-20T08:53:05.382Z"
   },
   {
    "duration": 1873,
    "start_time": "2022-01-20T08:53:46.125Z"
   },
   {
    "duration": 121,
    "start_time": "2022-01-20T08:53:48.001Z"
   },
   {
    "duration": 150,
    "start_time": "2022-01-20T08:53:48.125Z"
   },
   {
    "duration": 177,
    "start_time": "2022-01-20T08:53:48.277Z"
   },
   {
    "duration": 144,
    "start_time": "2022-01-20T08:53:48.456Z"
   },
   {
    "duration": 8,
    "start_time": "2022-01-20T08:53:48.602Z"
   },
   {
    "duration": 21,
    "start_time": "2022-01-20T08:53:48.612Z"
   },
   {
    "duration": 9,
    "start_time": "2022-01-20T08:53:48.635Z"
   },
   {
    "duration": 7,
    "start_time": "2022-01-20T08:53:48.646Z"
   },
   {
    "duration": 469,
    "start_time": "2022-01-20T08:53:48.655Z"
   },
   {
    "duration": 7,
    "start_time": "2022-01-20T08:53:49.126Z"
   },
   {
    "duration": 403,
    "start_time": "2022-01-20T08:53:49.135Z"
   },
   {
    "duration": 6,
    "start_time": "2022-01-20T09:19:05.572Z"
   },
   {
    "duration": 14,
    "start_time": "2022-01-20T09:19:12.577Z"
   },
   {
    "duration": 15,
    "start_time": "2022-01-20T09:20:27.398Z"
   },
   {
    "duration": 17,
    "start_time": "2022-01-20T09:32:59.310Z"
   },
   {
    "duration": 16,
    "start_time": "2022-01-20T09:33:15.860Z"
   },
   {
    "duration": 11,
    "start_time": "2022-01-20T09:33:45.908Z"
   },
   {
    "duration": 68,
    "start_time": "2022-01-20T09:34:02.907Z"
   },
   {
    "duration": 296,
    "start_time": "2022-01-20T09:43:08.745Z"
   },
   {
    "duration": 272,
    "start_time": "2022-01-20T09:43:59.449Z"
   },
   {
    "duration": 732,
    "start_time": "2022-01-20T09:49:49.927Z"
   },
   {
    "duration": 1250,
    "start_time": "2022-01-20T09:52:46.297Z"
   },
   {
    "duration": 561,
    "start_time": "2022-01-20T11:28:44.639Z"
   },
   {
    "duration": 318,
    "start_time": "2022-01-20T11:29:04.306Z"
   },
   {
    "duration": 16,
    "start_time": "2022-01-20T11:29:09.130Z"
   },
   {
    "duration": 6,
    "start_time": "2022-01-20T11:30:51.859Z"
   },
   {
    "duration": 15,
    "start_time": "2022-01-20T11:31:13.616Z"
   },
   {
    "duration": 20,
    "start_time": "2022-01-20T11:34:01.587Z"
   },
   {
    "duration": 318,
    "start_time": "2022-01-20T11:35:01.737Z"
   },
   {
    "duration": 733,
    "start_time": "2022-01-20T11:36:27.115Z"
   },
   {
    "duration": 380,
    "start_time": "2022-01-20T11:54:11.200Z"
   },
   {
    "duration": 12,
    "start_time": "2022-01-20T11:54:22.475Z"
   },
   {
    "duration": 325,
    "start_time": "2022-01-20T11:58:45.880Z"
   },
   {
    "duration": 21,
    "start_time": "2022-01-20T12:00:29.570Z"
   },
   {
    "duration": 13,
    "start_time": "2022-01-20T12:15:34.496Z"
   },
   {
    "duration": 580,
    "start_time": "2022-01-20T12:23:51.999Z"
   },
   {
    "duration": 125,
    "start_time": "2022-01-20T12:26:42.004Z"
   },
   {
    "duration": 150,
    "start_time": "2022-01-20T12:26:49.343Z"
   },
   {
    "duration": 127,
    "start_time": "2022-01-20T12:27:26.292Z"
   },
   {
    "duration": 8,
    "start_time": "2022-01-20T12:27:26.421Z"
   },
   {
    "duration": 29,
    "start_time": "2022-01-20T12:27:26.431Z"
   },
   {
    "duration": 7,
    "start_time": "2022-01-20T12:27:26.462Z"
   },
   {
    "duration": 5,
    "start_time": "2022-01-20T12:27:26.471Z"
   },
   {
    "duration": 337,
    "start_time": "2022-01-20T12:27:26.478Z"
   },
   {
    "duration": 6,
    "start_time": "2022-01-20T12:27:26.817Z"
   },
   {
    "duration": 300,
    "start_time": "2022-01-20T12:27:26.825Z"
   },
   {
    "duration": 16,
    "start_time": "2022-01-20T12:27:27.126Z"
   },
   {
    "duration": 34,
    "start_time": "2022-01-20T12:27:27.143Z"
   },
   {
    "duration": 10,
    "start_time": "2022-01-20T12:27:27.179Z"
   },
   {
    "duration": 11,
    "start_time": "2022-01-20T12:27:27.191Z"
   },
   {
    "duration": 1267,
    "start_time": "2022-01-20T12:27:27.204Z"
   },
   {
    "duration": 826,
    "start_time": "2022-01-20T12:27:28.473Z"
   },
   {
    "duration": 153,
    "start_time": "2022-01-20T12:28:11.261Z"
   },
   {
    "duration": 124,
    "start_time": "2022-01-20T12:28:13.261Z"
   },
   {
    "duration": 7,
    "start_time": "2022-01-20T12:28:16.405Z"
   },
   {
    "duration": 27,
    "start_time": "2022-01-20T12:28:16.414Z"
   },
   {
    "duration": 8,
    "start_time": "2022-01-20T12:28:16.442Z"
   },
   {
    "duration": 16,
    "start_time": "2022-01-20T12:28:16.452Z"
   },
   {
    "duration": 369,
    "start_time": "2022-01-20T12:28:16.469Z"
   },
   {
    "duration": 7,
    "start_time": "2022-01-20T12:28:16.840Z"
   },
   {
    "duration": 378,
    "start_time": "2022-01-20T12:28:16.848Z"
   },
   {
    "duration": 14,
    "start_time": "2022-01-20T12:28:17.228Z"
   },
   {
    "duration": 29,
    "start_time": "2022-01-20T12:28:17.243Z"
   },
   {
    "duration": 12,
    "start_time": "2022-01-20T12:28:17.274Z"
   },
   {
    "duration": 10,
    "start_time": "2022-01-20T12:28:17.287Z"
   },
   {
    "duration": 1399,
    "start_time": "2022-01-20T12:28:17.298Z"
   },
   {
    "duration": 580,
    "start_time": "2022-01-20T12:28:18.698Z"
   },
   {
    "duration": 352,
    "start_time": "2022-01-20T12:30:17.323Z"
   },
   {
    "duration": 251,
    "start_time": "2022-01-20T12:33:09.121Z"
   },
   {
    "duration": 626,
    "start_time": "2022-01-20T13:51:39.199Z"
   },
   {
    "duration": 660,
    "start_time": "2022-01-20T13:52:10.190Z"
   },
   {
    "duration": 284,
    "start_time": "2022-01-20T13:52:19.791Z"
   },
   {
    "duration": 703,
    "start_time": "2022-01-20T13:56:20.288Z"
   },
   {
    "duration": 262,
    "start_time": "2022-01-20T13:56:41.866Z"
   },
   {
    "duration": 239,
    "start_time": "2022-01-20T13:57:09.283Z"
   },
   {
    "duration": 279,
    "start_time": "2022-01-20T13:57:50.954Z"
   },
   {
    "duration": 12,
    "start_time": "2022-01-20T14:03:28.316Z"
   },
   {
    "duration": 45,
    "start_time": "2022-01-20T14:04:06.811Z"
   },
   {
    "duration": 60,
    "start_time": "2022-01-20T14:04:19.251Z"
   },
   {
    "duration": 211,
    "start_time": "2022-01-20T14:04:22.628Z"
   },
   {
    "duration": 4,
    "start_time": "2022-01-20T14:07:57.728Z"
   },
   {
    "duration": 4,
    "start_time": "2022-01-20T14:08:49.531Z"
   },
   {
    "duration": 268,
    "start_time": "2022-01-20T14:17:21.855Z"
   },
   {
    "duration": 340,
    "start_time": "2022-01-20T14:20:09.854Z"
   },
   {
    "duration": 386,
    "start_time": "2022-01-20T14:20:33.006Z"
   },
   {
    "duration": 331,
    "start_time": "2022-01-20T14:21:32.356Z"
   },
   {
    "duration": 4,
    "start_time": "2022-01-20T14:21:43.988Z"
   },
   {
    "duration": 4,
    "start_time": "2022-01-20T14:21:56.460Z"
   },
   {
    "duration": 384,
    "start_time": "2022-01-20T14:40:29.923Z"
   },
   {
    "duration": 3835,
    "start_time": "2022-01-20T14:41:06.498Z"
   },
   {
    "duration": 354,
    "start_time": "2022-01-20T14:41:39.668Z"
   },
   {
    "duration": 3,
    "start_time": "2022-01-20T14:42:16.466Z"
   },
   {
    "duration": 59,
    "start_time": "2022-01-20T14:42:26.986Z"
   },
   {
    "duration": 67,
    "start_time": "2022-01-20T14:44:38.127Z"
   },
   {
    "duration": 57,
    "start_time": "2022-01-20T14:45:28.222Z"
   },
   {
    "duration": 9,
    "start_time": "2022-01-20T14:53:59.511Z"
   },
   {
    "duration": 3965,
    "start_time": "2022-01-20T15:05:50.292Z"
   },
   {
    "duration": 8,
    "start_time": "2022-01-20T15:06:09.339Z"
   },
   {
    "duration": 8,
    "start_time": "2022-01-20T15:08:30.689Z"
   },
   {
    "duration": 8,
    "start_time": "2022-01-20T15:12:29.245Z"
   },
   {
    "duration": 4042,
    "start_time": "2022-01-20T15:14:07.652Z"
   },
   {
    "duration": 14,
    "start_time": "2022-01-20T15:15:08.996Z"
   },
   {
    "duration": 8,
    "start_time": "2022-01-20T15:18:10.257Z"
   },
   {
    "duration": 12,
    "start_time": "2022-01-20T15:18:13.400Z"
   },
   {
    "duration": 7,
    "start_time": "2022-01-20T15:18:24.208Z"
   },
   {
    "duration": 13,
    "start_time": "2022-01-20T15:18:26.176Z"
   },
   {
    "duration": 7,
    "start_time": "2022-01-20T15:18:43.120Z"
   },
   {
    "duration": 12,
    "start_time": "2022-01-20T15:18:45.808Z"
   },
   {
    "duration": 8,
    "start_time": "2022-01-20T15:19:30.703Z"
   },
   {
    "duration": 13,
    "start_time": "2022-01-20T15:19:32.791Z"
   },
   {
    "duration": 8,
    "start_time": "2022-01-20T15:20:06.246Z"
   },
   {
    "duration": 13,
    "start_time": "2022-01-20T15:20:08.135Z"
   },
   {
    "duration": 14,
    "start_time": "2022-01-20T15:22:18.925Z"
   },
   {
    "duration": 13,
    "start_time": "2022-01-20T15:22:29.908Z"
   },
   {
    "duration": 12,
    "start_time": "2022-01-20T15:26:06.210Z"
   },
   {
    "duration": 12,
    "start_time": "2022-01-20T15:38:02.286Z"
   },
   {
    "duration": 1244,
    "start_time": "2022-01-20T15:47:26.926Z"
   },
   {
    "duration": 55532,
    "start_time": "2022-01-21T08:08:46.513Z"
   },
   {
    "duration": 2788,
    "start_time": "2022-01-21T08:09:42.048Z"
   },
   {
    "duration": 189,
    "start_time": "2022-01-21T08:09:44.839Z"
   },
   {
    "duration": 20,
    "start_time": "2022-01-21T08:09:45.031Z"
   },
   {
    "duration": 175,
    "start_time": "2022-01-21T08:09:45.053Z"
   },
   {
    "duration": 162,
    "start_time": "2022-01-21T08:09:45.230Z"
   },
   {
    "duration": 13,
    "start_time": "2022-01-21T08:09:45.394Z"
   },
   {
    "duration": 929,
    "start_time": "2022-01-21T08:09:45.411Z"
   },
   {
    "duration": 23,
    "start_time": "2022-01-21T08:09:46.344Z"
   },
   {
    "duration": 10,
    "start_time": "2022-01-21T08:09:46.369Z"
   },
   {
    "duration": 619,
    "start_time": "2022-01-21T08:09:46.381Z"
   },
   {
    "duration": 10,
    "start_time": "2022-01-21T08:09:47.002Z"
   },
   {
    "duration": 558,
    "start_time": "2022-01-21T08:09:47.015Z"
   },
   {
    "duration": 826,
    "start_time": "2022-01-21T08:09:47.576Z"
   },
   {
    "duration": 375,
    "start_time": "2022-01-21T08:09:48.404Z"
   },
   {
    "duration": 380,
    "start_time": "2022-01-21T08:09:48.781Z"
   },
   {
    "duration": 414,
    "start_time": "2022-01-21T08:09:49.164Z"
   },
   {
    "duration": 18,
    "start_time": "2022-01-21T08:09:49.581Z"
   },
   {
    "duration": 102,
    "start_time": "2022-01-21T08:09:49.601Z"
   },
   {
    "duration": 341,
    "start_time": "2022-01-21T08:09:49.705Z"
   },
   {
    "duration": 6,
    "start_time": "2022-01-21T08:09:50.049Z"
   },
   {
    "duration": 306,
    "start_time": "2022-01-21T08:09:50.057Z"
   },
   {
    "duration": 8,
    "start_time": "2022-01-21T08:09:50.370Z"
   },
   {
    "duration": 134,
    "start_time": "2022-01-21T08:09:50.381Z"
   },
   {
    "duration": 20,
    "start_time": "2022-01-21T08:09:50.518Z"
   },
   {
    "duration": 12,
    "start_time": "2022-01-21T08:09:50.540Z"
   },
   {
    "duration": 24,
    "start_time": "2022-01-21T08:09:50.554Z"
   },
   {
    "duration": 57,
    "start_time": "2022-01-21T08:09:50.580Z"
   },
   {
    "duration": 58644,
    "start_time": "2022-01-21T12:00:51.236Z"
   },
   {
    "duration": 3351,
    "start_time": "2022-01-21T12:01:49.883Z"
   },
   {
    "duration": 130,
    "start_time": "2022-01-21T12:01:53.237Z"
   },
   {
    "duration": 21,
    "start_time": "2022-01-21T12:01:53.370Z"
   },
   {
    "duration": 149,
    "start_time": "2022-01-21T12:01:53.393Z"
   },
   {
    "duration": 135,
    "start_time": "2022-01-21T12:01:53.544Z"
   },
   {
    "duration": 12,
    "start_time": "2022-01-21T12:01:53.682Z"
   },
   {
    "duration": 30,
    "start_time": "2022-01-21T12:01:53.698Z"
   },
   {
    "duration": 16,
    "start_time": "2022-01-21T12:01:53.732Z"
   },
   {
    "duration": 15,
    "start_time": "2022-01-21T12:01:53.751Z"
   },
   {
    "duration": 599,
    "start_time": "2022-01-21T12:01:53.769Z"
   },
   {
    "duration": 12,
    "start_time": "2022-01-21T12:01:54.370Z"
   },
   {
    "duration": 568,
    "start_time": "2022-01-21T12:01:54.385Z"
   },
   {
    "duration": 982,
    "start_time": "2022-01-21T12:01:54.956Z"
   },
   {
    "duration": 461,
    "start_time": "2022-01-21T12:01:55.941Z"
   },
   {
    "duration": 358,
    "start_time": "2022-01-21T12:01:56.405Z"
   },
   {
    "duration": 438,
    "start_time": "2022-01-21T12:01:56.766Z"
   },
   {
    "duration": 33,
    "start_time": "2022-01-21T12:01:57.207Z"
   },
   {
    "duration": 144,
    "start_time": "2022-01-21T12:01:57.242Z"
   },
   {
    "duration": 357,
    "start_time": "2022-01-21T12:01:57.389Z"
   },
   {
    "duration": 6,
    "start_time": "2022-01-21T12:01:57.749Z"
   },
   {
    "duration": 315,
    "start_time": "2022-01-21T12:01:57.758Z"
   },
   {
    "duration": 6,
    "start_time": "2022-01-21T12:01:58.078Z"
   },
   {
    "duration": 136,
    "start_time": "2022-01-21T12:01:58.087Z"
   },
   {
    "duration": 19,
    "start_time": "2022-01-21T12:01:58.226Z"
   },
   {
    "duration": 12,
    "start_time": "2022-01-21T12:01:58.247Z"
   },
   {
    "duration": 36,
    "start_time": "2022-01-21T12:01:58.262Z"
   },
   {
    "duration": 21,
    "start_time": "2022-01-21T12:01:58.324Z"
   },
   {
    "duration": 372,
    "start_time": "2022-01-21T13:50:28.273Z"
   },
   {
    "duration": 480,
    "start_time": "2022-01-21T13:51:05.175Z"
   },
   {
    "duration": 443,
    "start_time": "2022-01-21T13:52:26.099Z"
   },
   {
    "duration": 521,
    "start_time": "2022-01-21T13:53:43.822Z"
   },
   {
    "duration": 509,
    "start_time": "2022-01-21T13:54:07.050Z"
   },
   {
    "duration": 402,
    "start_time": "2022-01-21T13:55:08.940Z"
   },
   {
    "duration": 426,
    "start_time": "2022-01-21T13:57:14.816Z"
   },
   {
    "duration": 402,
    "start_time": "2022-01-21T13:57:23.535Z"
   },
   {
    "duration": 893,
    "start_time": "2022-01-21T13:57:33.759Z"
   },
   {
    "duration": 471,
    "start_time": "2022-01-21T13:58:20.503Z"
   },
   {
    "duration": 419,
    "start_time": "2022-01-21T13:58:32.350Z"
   },
   {
    "duration": 451,
    "start_time": "2022-01-21T13:59:16.214Z"
   },
   {
    "duration": 457,
    "start_time": "2022-01-21T13:59:49.206Z"
   },
   {
    "duration": 408,
    "start_time": "2022-01-21T14:02:28.917Z"
   },
   {
    "duration": 358,
    "start_time": "2022-01-21T14:02:44.230Z"
   },
   {
    "duration": 809,
    "start_time": "2022-01-21T14:02:58.819Z"
   },
   {
    "duration": 372,
    "start_time": "2022-01-21T14:03:12.500Z"
   },
   {
    "duration": 539,
    "start_time": "2022-01-21T14:03:32.632Z"
   },
   {
    "duration": 288,
    "start_time": "2022-01-21T14:04:04.286Z"
   },
   {
    "duration": 15205,
    "start_time": "2022-01-21T17:58:33.684Z"
   },
   {
    "duration": 102,
    "start_time": "2022-01-21T17:58:48.891Z"
   },
   {
    "duration": 12,
    "start_time": "2022-01-21T17:58:50.682Z"
   },
   {
    "duration": 238,
    "start_time": "2022-01-21T17:58:50.696Z"
   },
   {
    "duration": 231,
    "start_time": "2022-01-21T17:58:50.936Z"
   },
   {
    "duration": 8,
    "start_time": "2022-01-21T17:58:51.169Z"
   },
   {
    "duration": 20,
    "start_time": "2022-01-21T17:58:51.179Z"
   },
   {
    "duration": 9,
    "start_time": "2022-01-21T17:58:51.200Z"
   },
   {
    "duration": 8,
    "start_time": "2022-01-21T17:58:51.211Z"
   },
   {
    "duration": 535,
    "start_time": "2022-01-21T17:58:51.220Z"
   },
   {
    "duration": 179,
    "start_time": "2022-01-21T17:58:51.578Z"
   },
   {
    "duration": 177,
    "start_time": "2022-01-21T17:58:51.581Z"
   },
   {
    "duration": 176,
    "start_time": "2022-01-21T17:58:51.583Z"
   },
   {
    "duration": 176,
    "start_time": "2022-01-21T17:58:51.584Z"
   },
   {
    "duration": 175,
    "start_time": "2022-01-21T17:58:51.586Z"
   },
   {
    "duration": 181,
    "start_time": "2022-01-21T17:58:51.589Z"
   },
   {
    "duration": 181,
    "start_time": "2022-01-21T17:58:51.590Z"
   },
   {
    "duration": 13,
    "start_time": "2022-01-21T17:58:52.518Z"
   },
   {
    "duration": 102,
    "start_time": "2022-01-21T17:58:52.752Z"
   },
   {
    "duration": 271,
    "start_time": "2022-01-21T17:58:52.993Z"
   },
   {
    "duration": 5,
    "start_time": "2022-01-21T17:58:53.591Z"
   },
   {
    "duration": 231,
    "start_time": "2022-01-21T17:58:54.223Z"
   },
   {
    "duration": 5,
    "start_time": "2022-01-21T17:58:54.829Z"
   },
   {
    "duration": 102,
    "start_time": "2022-01-21T17:58:56.417Z"
   },
   {
    "duration": 10,
    "start_time": "2022-01-21T17:58:58.736Z"
   },
   {
    "duration": 9,
    "start_time": "2022-01-21T17:58:59.770Z"
   },
   {
    "duration": 21,
    "start_time": "2022-01-21T17:59:00.543Z"
   },
   {
    "duration": 14,
    "start_time": "2022-01-21T17:59:01.497Z"
   },
   {
    "duration": 8,
    "start_time": "2022-01-21T17:59:26.868Z"
   },
   {
    "duration": 12542,
    "start_time": "2022-01-21T17:59:27.546Z"
   },
   {
    "duration": 543,
    "start_time": "2022-01-21T17:59:42.391Z"
   },
   {
    "duration": 188,
    "start_time": "2022-01-21T18:00:27.323Z"
   },
   {
    "duration": 346,
    "start_time": "2022-01-21T18:00:29.845Z"
   },
   {
    "duration": 308,
    "start_time": "2022-01-21T18:00:32.530Z"
   },
   {
    "duration": 320,
    "start_time": "2022-01-21T18:00:35.471Z"
   }
  ],
  "kernelspec": {
   "display_name": "Python 3 (ipykernel)",
   "language": "python",
   "name": "python3"
  },
  "language_info": {
   "codemirror_mode": {
    "name": "ipython",
    "version": 3
   },
   "file_extension": ".py",
   "mimetype": "text/x-python",
   "name": "python",
   "nbconvert_exporter": "python",
   "pygments_lexer": "ipython3",
   "version": "3.9.12"
  },
  "toc": {
   "base_numbering": 1,
   "nav_menu": {},
   "number_sections": true,
   "sideBar": true,
   "skip_h1_title": true,
   "title_cell": "Table of Contents",
   "title_sidebar": "Contents",
   "toc_cell": false,
   "toc_position": {},
   "toc_section_display": true,
   "toc_window_display": false
  }
 },
 "nbformat": 4,
 "nbformat_minor": 2
}
